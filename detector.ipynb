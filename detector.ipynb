{
 "cells": [
  {
   "cell_type": "code",
   "execution_count": null,
   "metadata": {},
   "outputs": [],
   "source": [
    "import numpy as np\n",
    "import pandas as pd\n",
    "import tensorflow as tf\n",
    "from tensorflow import keras"
   ]
  },
  {
   "cell_type": "code",
   "execution_count": null,
   "metadata": {},
   "outputs": [],
   "source": [
    "df = pd.read_csv(\"./data/fake_news_data.csv\")\n",
    "df.dropna(how=\"any\", inplace=True)"
   ]
  },
  {
   "cell_type": "code",
   "execution_count": null,
   "metadata": {},
   "outputs": [],
   "source": [
    "df.head()"
   ]
  },
  {
   "cell_type": "code",
   "execution_count": null,
   "metadata": {},
   "outputs": [],
   "source": [
    "df[\"real\"].value_counts()"
   ]
  },
  {
   "cell_type": "code",
   "execution_count": null,
   "metadata": {},
   "outputs": [],
   "source": [
    "#Balance classes\n",
    "\n",
    "df_fake = df.loc[df[\"real\"] == 0]\n",
    "df_real = df.loc[df[\"real\"] == 1]\n",
    "\n",
    "num_examples_per_class = min(len(df_fake),len(df_real))\n",
    "\n",
    "df = pd.concat([df_fake.sample(num_examples_per_class), df_real.sample(num_examples_per_class)])"
   ]
  },
  {
   "cell_type": "code",
   "execution_count": null,
   "metadata": {},
   "outputs": [],
   "source": [
    "unique_domains = list(df[\"source_domain\"].unique())\n",
    "unique_titles = list(df[\"title\"].unique())"
   ]
  },
  {
   "cell_type": "code",
   "execution_count": null,
   "metadata": {},
   "outputs": [],
   "source": [
    "num_words=10000\n",
    "num_domains = len(unique_domains)"
   ]
  },
  {
   "cell_type": "code",
   "execution_count": null,
   "metadata": {},
   "outputs": [],
   "source": [
    "\n",
    "title_input = keras.Input(shape=(1,), name=\"title\", dtype=tf.string)\n",
    "source_domain_input = keras.Input(shape=(1,), name=\"domain\", dtype=tf.string)\n",
    "tweet_num_input = keras.Input(shape=(1,), name=\"num_tweets\", dtype=tf.float32)\n",
    "\n",
    "title_vectorizer = keras.layers.TextVectorization(max_tokens=num_words)\n",
    "title_vectorizer.adapt(unique_titles)\n",
    "title_vectorizer=title_vectorizer(title_input)\n",
    "\n",
    "source_domain_lookup = keras.layers.StringLookup(vocabulary=unique_domains)(source_domain_input)\n",
    "\n",
    "tweet_num_normalized = keras.layers.Normalization()\n",
    "tweet_num_normalized.adapt(df[\"tweet_num\"])\n",
    "tweet_num_normalized = tweet_num_normalized(tweet_num_input)"
   ]
  },
  {
   "cell_type": "code",
   "execution_count": null,
   "metadata": {},
   "outputs": [],
   "source": [
    "title_embedding=keras.layers.Embedding(num_words+1, 64)(title_vectorizer)\n",
    "source_domain_embedding = keras.layers.Embedding(num_domains+1, 64)(source_domain_lookup)\n"
   ]
  },
  {
   "cell_type": "code",
   "execution_count": null,
   "metadata": {},
   "outputs": [],
   "source": [
    "title_features = keras.layers.LSTM(128)(title_embedding)\n",
    "source_domain_features = keras.layers.GlobalAveragePooling1D()(source_domain_embedding)"
   ]
  },
  {
   "cell_type": "code",
   "execution_count": null,
   "metadata": {},
   "outputs": [],
   "source": [
    "x = keras.layers.concatenate([title_features, source_domain_features, tweet_num_normalized])"
   ]
  },
  {
   "cell_type": "code",
   "execution_count": null,
   "metadata": {},
   "outputs": [],
   "source": [
    "output = keras.layers.Dense(1, name=\"real\", activation=\"sigmoid\")(x)"
   ]
  },
  {
   "cell_type": "code",
   "execution_count": null,
   "metadata": {},
   "outputs": [],
   "source": [
    "model = keras.Model(inputs=[title_input, source_domain_input, tweet_num_input], outputs=[output])"
   ]
  },
  {
   "cell_type": "code",
   "execution_count": null,
   "metadata": {},
   "outputs": [],
   "source": [
    "keras.utils.plot_model(model, show_shapes=True)"
   ]
  },
  {
   "cell_type": "code",
   "execution_count": null,
   "metadata": {},
   "outputs": [],
   "source": [
    "model.compile(\n",
    "    optimizer=keras.optimizers.RMSprop(1e-3),\n",
    "    loss=keras.losses.BinaryCrossentropy(),\n",
    "    metrics=[\"binary_accuracy\"]\n",
    ")"
   ]
  },
  {
   "cell_type": "code",
   "execution_count": null,
   "metadata": {},
   "outputs": [],
   "source": [
    "import numpy as np"
   ]
  },
  {
   "cell_type": "code",
   "execution_count": null,
   "metadata": {},
   "outputs": [],
   "source": [
    "title_data = np.array((df[\"title\"].astype(str)))\n",
    "domain_data = np.array(df[\"source_domain\"].astype(str))\n",
    "tweet_num_data = np.array(df[\"tweet_num\"])\n",
    "\n",
    "target = np.array(df[\"real\"].astype(int))"
   ]
  },
  {
   "cell_type": "code",
   "execution_count": null,
   "metadata": {},
   "outputs": [],
   "source": [
    "history = model.fit({\"title\":title_data, \n",
    "            \"domain\":domain_data,\n",
    "            \"num_tweets\":tweet_num_data},\n",
    "            {\"real\":target}, \n",
    "            epochs=15)"
   ]
  },
  {
   "cell_type": "code",
   "execution_count": null,
   "metadata": {},
   "outputs": [],
   "source": [
    "df_samples = df.sample(n=10)\n",
    "sample_titles = np.array(df_samples[\"title\"])\n",
    "sample_domains = np.array(df_samples[\"source_domain\"])\n",
    "sample_tweet_nums = np.array(df_samples[\"tweet_num\"])"
   ]
  },
  {
   "cell_type": "code",
   "execution_count": null,
   "metadata": {},
   "outputs": [],
   "source": [
    "input_example = {\n",
    "    \"title\":sample_titles,\n",
    "    \"domain\":sample_domains,\n",
    "    \"num_tweets\":sample_tweet_nums\n",
    "}"
   ]
  },
  {
   "cell_type": "code",
   "execution_count": null,
   "metadata": {},
   "outputs": [],
   "source": [
    "input_example"
   ]
  },
  {
   "cell_type": "code",
   "execution_count": null,
   "metadata": {},
   "outputs": [],
   "source": [
    "predictions = model.predict(input_example)"
   ]
  },
  {
   "cell_type": "code",
   "execution_count": null,
   "metadata": {},
   "outputs": [],
   "source": [
    "print(\"Predictions\", [\"real\" if pred >= .5 else \"fake\" for pred in predictions])\n",
    "print(\"Actual\", [\"real\" if target == 1 else \"fake\" for target in df_samples[\"real\"]])\n"
   ]
  },
  {
   "cell_type": "code",
   "execution_count": null,
   "metadata": {},
   "outputs": [],
   "source": [
    "df_samples[\"predicted_real\"] = [1 if pred >= .5 else 0 for pred in predictions]\n",
    "df_samples[\"prediction_raw_value\"] = np.array(predictions)\n",
    "df_samples[\"prediction_certainty\"] = [pred if pred > .5 else 100.0 - pred for pred in predictions]\n",
    "df_samples"
   ]
  },
  {
   "cell_type": "code",
   "execution_count": null,
   "metadata": {},
   "outputs": [],
   "source": []
  }
 ],
 "metadata": {
  "kernelspec": {
   "display_name": "Python 3.10.6 ('venv': venv)",
   "language": "python",
   "name": "python3"
  },
  "language_info": {
   "codemirror_mode": {
    "name": "ipython",
    "version": 3
   },
   "file_extension": ".py",
   "mimetype": "text/x-python",
   "name": "python",
   "nbconvert_exporter": "python",
   "pygments_lexer": "ipython3",
   "version": "3.10.6"
  },
  "orig_nbformat": 4,
  "vscode": {
   "interpreter": {
    "hash": "b389ea680ac9813a92d3bbffda86e32dc6f63bd28b69b1182cc9ebb2ffda3716"
   }
  }
 },
 "nbformat": 4,
 "nbformat_minor": 2
}
