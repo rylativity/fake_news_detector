{
 "cells": [
  {
   "cell_type": "code",
   "execution_count": null,
   "metadata": {},
   "outputs": [],
   "source": [
    "import pandas as pd\n",
    "import tensorflow as tf\n",
    "from tensorflow import keras\n",
    "from tensorflow.keras import layers"
   ]
  },
  {
   "cell_type": "code",
   "execution_count": null,
   "metadata": {},
   "outputs": [],
   "source": [
    "df = pd.read_csv(\"./data/fake_news_data.csv\")"
   ]
  },
  {
   "cell_type": "code",
   "execution_count": null,
   "metadata": {},
   "outputs": [],
   "source": [
    "df.head()"
   ]
  },
  {
   "cell_type": "code",
   "execution_count": null,
   "metadata": {},
   "outputs": [],
   "source": [
    "unique_domains = list(df[\"source_domain\"].unique())\n",
    "unique_titles = list(df[\"title\"].unique())"
   ]
  },
  {
   "cell_type": "code",
   "execution_count": null,
   "metadata": {},
   "outputs": [],
   "source": [
    "num_words=10000\n",
    "num_domains = len(unique_domains)"
   ]
  },
  {
   "cell_type": "code",
   "execution_count": null,
   "metadata": {},
   "outputs": [],
   "source": [
    "\n",
    "title_input = keras.Input(shape=(1,), name=\"title\", dtype=tf.string)\n",
    "source_domain_input = keras.Input(shape=(1,), name=\"domain\", dtype=tf.string)\n",
    "\n",
    "tweet_num_input = keras.Input(shape=(1,), dtype=\"int32\", name=\"tweet_num\")\n",
    "\n",
    "title_vectorizer = keras.layers.TextVectorization(max_tokens=num_words)\n",
    "title_vectorizer.adapt(unique_titles)\n",
    "\n",
    "title_vector = title_vectorizer(title_input)\n",
    "\n",
    "source_domain_lookup = keras.layers.StringLookup(vocabulary=unique_domains)(source_domain_input)"
   ]
  },
  {
   "cell_type": "code",
   "execution_count": null,
   "metadata": {},
   "outputs": [],
   "source": [
    "title_features=layers.Embedding(num_words+1, 64)(title_vector)\n",
    "source_domain_embedding = layers.Embedding(num_domains+1, 64)(source_domain_lookup)\n",
    "tweet_num_normalized = layers.Normalization()\n",
    "tweet_num_normalized.adapt(df[\"tweet_num\"])"
   ]
  },
  {
   "cell_type": "code",
   "execution_count": null,
   "metadata": {},
   "outputs": [],
   "source": [
    "title_features = layers.LSTM(128)(title_features)\n",
    "source_domain_features = layers.GlobalAveragePooling1D()(source_domain_embedding)"
   ]
  },
  {
   "cell_type": "code",
   "execution_count": null,
   "metadata": {},
   "outputs": [],
   "source": [
    "x = layers.concatenate([title_features, source_domain_features])"
   ]
  },
  {
   "cell_type": "code",
   "execution_count": null,
   "metadata": {},
   "outputs": [],
   "source": [
    "is_real_pred = layers.Dense(1, name=\"real\")(x)"
   ]
  },
  {
   "cell_type": "code",
   "execution_count": null,
   "metadata": {},
   "outputs": [],
   "source": [
    "model = keras.Model(inputs=[title_input, source_domain_input], outputs=[is_real_pred])"
   ]
  },
  {
   "cell_type": "code",
   "execution_count": null,
   "metadata": {},
   "outputs": [],
   "source": [
    "keras.utils.plot_model(model, show_shapes=True)"
   ]
  },
  {
   "cell_type": "code",
   "execution_count": null,
   "metadata": {},
   "outputs": [],
   "source": [
    "model.compile(\n",
    "    optimizer=keras.optimizers.RMSprop(1e-3),\n",
    "    loss=keras.losses.BinaryCrossentropy(from_logits=True),\n",
    "    metrics=[\"binary_accuracy\"]\n",
    ")"
   ]
  },
  {
   "cell_type": "code",
   "execution_count": null,
   "metadata": {},
   "outputs": [],
   "source": [
    "import numpy as np"
   ]
  },
  {
   "cell_type": "code",
   "execution_count": null,
   "metadata": {},
   "outputs": [],
   "source": [
    "title_data = np.array((df[\"title\"].astype(str)))\n",
    "domain_data = np.array(df[\"source_domain\"].astype(str))\n",
    "\n",
    "target = np.array(df[\"real\"].astype(int))"
   ]
  },
  {
   "cell_type": "code",
   "execution_count": null,
   "metadata": {},
   "outputs": [],
   "source": [
    "history = model.fit({\"title\":title_data, \n",
    "            \"domain\":domain_data},\n",
    "            {\"real\":target}, \n",
    "            epochs=100)"
   ]
  },
  {
   "cell_type": "code",
   "execution_count": null,
   "metadata": {},
   "outputs": [],
   "source": []
  }
 ],
 "metadata": {
  "kernelspec": {
   "display_name": "Python 3.10.6 ('venv': venv)",
   "language": "python",
   "name": "python3"
  },
  "language_info": {
   "codemirror_mode": {
    "name": "ipython",
    "version": 3
   },
   "file_extension": ".py",
   "mimetype": "text/x-python",
   "name": "python",
   "nbconvert_exporter": "python",
   "pygments_lexer": "ipython3",
   "version": "3.10.6"
  },
  "orig_nbformat": 4,
  "vscode": {
   "interpreter": {
    "hash": "b389ea680ac9813a92d3bbffda86e32dc6f63bd28b69b1182cc9ebb2ffda3716"
   }
  }
 },
 "nbformat": 4,
 "nbformat_minor": 2
}
